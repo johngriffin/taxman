{
 "cells": [
  {
   "cell_type": "markdown",
   "metadata": {},
   "source": [
    "## Taxman\n",
    "\n",
    "This notebook is a quick calculation for a friend to compare investing unused capital within a LTD company vs withdrawing the capital and investing via a SIPP.\n",
    "\n",
    "Calculations assume the capital starts as net profit within LTD company.  \n",
    "\n",
    "Option 1 (company_return):  Invest the money within the LTD company, pay corp tax on the interest, pay capital gains tax when you extract the capital (assume entrepreneur's relief)\n",
    "\n",
    "Option 2 (sipp_return):  Pay the money from the company into a personal SIPP (effectively tax free), invest via the SIPP paying no tax on interest, then take 25% tax free and pay income tax on remaining 75%.\n",
    "\n"
   ]
  },
  {
   "cell_type": "code",
   "execution_count": 1,
   "metadata": {},
   "outputs": [],
   "source": [
    "INITIAL_INVESTMENT = 40000         # initial amount to invest\n",
    "ANNUAL_INTEREST_PC = 0.07          # percentage interest received on investment\n",
    "MIN_SIPP_FEE = 1250                # SIPP - minimum fee \n",
    "FEE_PC = 0.0035                    # SIPP - fee as percentage of AUM\n",
    "CORP_TAX_PC = 0.19                 # corporation tax\n",
    "LIQUIDATION_TAX_PC = 0.1           # tax paid on liquidation of company \n",
    "\n",
    "PENSION_INCOME_TAX_PC = 0.2        # income tax paid on pension income\n",
    "PENSION_TAX_FREE_PC = 0.25         # percentage of pension that may be taken tax free"
   ]
  },
  {
   "cell_type": "code",
   "execution_count": 2,
   "metadata": {},
   "outputs": [],
   "source": [
    "def company_return(years, add_capital_per_year):\n",
    "    capital = INITIAL_INVESTMENT\n",
    "    while(years > 0):\n",
    "        interest = capital * ANNUAL_INTEREST_PC\n",
    "        corporation_tax = interest * CORP_TAX_PC\n",
    "        capital = capital + interest - corporation_tax\n",
    "        years -= 1\n",
    "        \n",
    "        if (years > 0):  capital = capital + add_capital_per_year\n",
    "        \n",
    "    capital = capital * (1-LIQUIDATION_TAX_PC)\n",
    "    \n",
    "    return capital"
   ]
  },
  {
   "cell_type": "code",
   "execution_count": 3,
   "metadata": {},
   "outputs": [],
   "source": [
    "def sipp_return(years, add_capital_per_year):\n",
    "    capital = INITIAL_INVESTMENT #  there is no tax because gov topup \n",
    "    while(years > 0):\n",
    "        interest = capital * ANNUAL_INTEREST_PC\n",
    "        capital = capital + interest \n",
    "        fee = max(1250, (FEE_PC*capital))   \n",
    "        capital = capital - fee\n",
    "        years -= 1\n",
    "        \n",
    "        if (years > 0):  capital = capital + add_capital_per_year\n",
    "    \n",
    "    capital = (capital * 0.25) + (capital * 0.75 * (1-PENSION_INCOME_TAX_PC))  # 1/4 of pension is tax free, rest income tax\n",
    "    \n",
    "    return capital"
   ]
  },
  {
   "cell_type": "code",
   "execution_count": 4,
   "metadata": {},
   "outputs": [
    {
     "name": "stdout",
     "output_type": "stream",
     "text": [
      "sipp return\n",
      "1416369.2865815996\n",
      "company return\n",
      "1350726.2351902958\n"
     ]
    }
   ],
   "source": [
    "# Run calculations for 20 years, adding 40k each year\n",
    "\n",
    "print(\"sipp return\")\n",
    "print(sipp_return(20, 40000))\n",
    "\n",
    "print(\"company return\")\n",
    "print(company_return(20, 40000))\n"
   ]
  }
 ],
 "metadata": {
  "kernelspec": {
   "display_name": "Python 3",
   "language": "python",
   "name": "python3"
  },
  "language_info": {
   "codemirror_mode": {
    "name": "ipython",
    "version": 3
   },
   "file_extension": ".py",
   "mimetype": "text/x-python",
   "name": "python",
   "nbconvert_exporter": "python",
   "pygments_lexer": "ipython3",
   "version": "3.6.8"
  }
 },
 "nbformat": 4,
 "nbformat_minor": 2
}
